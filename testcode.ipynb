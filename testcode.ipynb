{
 "cells": [
  {
   "cell_type": "code",
   "execution_count": 1,
   "metadata": {},
   "outputs": [],
   "source": [
    "import pandas as pd\n",
    "import numpy as np\n",
    "import ramanspy as rpy\n",
    "from lmfit.models import VoigtModel"
   ]
  },
  {
   "cell_type": "code",
   "execution_count": 12,
   "metadata": {},
   "outputs": [],
   "source": [
    "# put your csv files in the same folder as this script!\n",
    "\n",
    "import numpy as np\n",
    "file= 'test.csv' # modify the filename\n",
    "\n",
    "# Process each file in the file list\n",
    "\n",
    "# Read the CSV file and convert it to a NumPy array\n",
    "raw_data = pd.read_csv(file, header=None).to_numpy()\n",
    "\n",
    "# Perform Raman data processing\n",
    "# processed_raman_data = load_raman_data(raw_data)\n",
    "# # rpy.plot.spectra(processed_raman_data[0,1])\n",
    "\n",
    "x = raw_data[1,1:]\n",
    "y = raw_data[2,1:]\n",
    "axis = raw_data[3:,0]\n",
    "data = raw_data[3:,1:]\n",
    "data = data.T\n",
    "datare = data.reshape(4, 3, 167)\n",
    "\n",
    "newx = x.reshape(3,4)\n",
    "newY = y.reshape(3,4)\n",
    "\n",
    "# # Analyze the Raman data and calculate FWHM values\n",
    "# fwhm_array, fwhm_std_array = analyze_raman_data(processed_raman_data)\n",
    "\n",
    "# # Save the processed data to an Excel file\n",
    "# save_to_excel(file, fwhm_array, fwhm_std_array)\n",
    "# print(\"complete. The first column is the relative x coordinate, the second column is the relative y coordinate, and the third column is the data value.\")\n"
   ]
  },
  {
   "cell_type": "markdown",
   "metadata": {},
   "source": [
    "just for test"
   ]
  },
  {
   "cell_type": "markdown",
   "metadata": {},
   "source": []
  }
 ],
 "metadata": {
  "kernelspec": {
   "display_name": "py3115",
   "language": "python",
   "name": "python3"
  },
  "language_info": {
   "codemirror_mode": {
    "name": "ipython",
    "version": 3
   },
   "file_extension": ".py",
   "mimetype": "text/x-python",
   "name": "python",
   "nbconvert_exporter": "python",
   "pygments_lexer": "ipython3",
   "version": "3.11.5"
  }
 },
 "nbformat": 4,
 "nbformat_minor": 2
}
