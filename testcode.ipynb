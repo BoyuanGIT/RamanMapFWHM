{
 "cells": [
  {
   "cell_type": "code",
   "execution_count": null,
   "metadata": {},
   "outputs": [],
   "source": [
    "import pandas as pd\n",
    "import numpy as np\n",
    "import ramanspy as rpy\n",
    "from lmfit.models import VoigtModel\n",
    "import matplotlib.pyplot as plt"
   ]
  },
  {
   "cell_type": "code",
   "execution_count": null,
   "metadata": {},
   "outputs": [],
   "source": [
    "# put your csv files in the same folder as this script!\n",
    "\n",
    "import numpy as np\n",
    "file= 'test.csv' # modify the filename\n",
    "\n",
    "# Process each file in the file list\n",
    "\n",
    "# Read the CSV file and convert it to a NumPy array\n",
    "raw_data = pd.read_csv(file, header=None).to_numpy()\n",
    "\n",
    "# Perform Raman data processing\n",
    "# processed_raman_data = load_raman_data(raw_data)\n",
    "# # rpy.plot.spectra(processed_raman_data[0,1])\n",
    "\n",
    "x = raw_data[1,1:].astype(float)\n",
    "y = raw_data[2,1:].astype(float)\n",
    "axis = raw_data[3:,0].astype(float)\n",
    "data = raw_data[3:,1:].astype(float)\n",
    "data = data.T\n",
    "datare = data.reshape(4, 3, 167)\n",
    "\n",
    "newx = x.reshape(3,4)\n",
    "newY = y.reshape(3,4)\n",
    "\n",
    "# # Analyze the Raman data and calculate FWHM values\n",
    "# fwhm_array, fwhm_std_array = analyze_raman_data(processed_raman_data)\n",
    "\n",
    "# # Save the processed data to an Excel file\n",
    "# save_to_excel(file, fwhm_array, fwhm_std_array)\n",
    "# print(\"complete. The first column is the relative x coordinate, the second column is the relative y coordinate, and the third column is the data value.\")\n"
   ]
  },
  {
   "cell_type": "code",
   "execution_count": null,
   "metadata": {},
   "outputs": [],
   "source": [
    "np.unique(x)"
   ]
  },
  {
   "cell_type": "markdown",
   "metadata": {},
   "source": [
    "just for test"
   ]
  },
  {
   "cell_type": "code",
   "execution_count": null,
   "metadata": {},
   "outputs": [],
   "source": [
    "a = data_load('test.csv')\n",
    "a"
   ]
  },
  {
   "cell_type": "code",
   "execution_count": null,
   "metadata": {},
   "outputs": [],
   "source": [
    "rmdata = rpy.SpectralImage(datare,axis)"
   ]
  },
  {
   "cell_type": "code",
   "execution_count": null,
   "metadata": {},
   "outputs": [],
   "source": [
    "type(rmdata.band(965))"
   ]
  },
  {
   "cell_type": "code",
   "execution_count": null,
   "metadata": {},
   "outputs": [],
   "source": [
    "newredata = rmdata.spectral_data"
   ]
  },
  {
   "cell_type": "code",
   "execution_count": null,
   "metadata": {},
   "outputs": [],
   "source": [
    "data_32 = rmdata[1,2].spectral_data"
   ]
  },
  {
   "cell_type": "code",
   "execution_count": null,
   "metadata": {},
   "outputs": [],
   "source": [
    "X = [4.8,8.8,12.8,16.8,4.8,8.8,12.8,16.8,4.8,8.8,12.8,16.8]\n",
    "Y = [90.2,90.2,90.2,90.2,91.2,91.2,91.2,91.2,92.2,92.2,92.2,92.2]\n",
    "plt.scatter(X,Y)"
   ]
  },
  {
   "cell_type": "code",
   "execution_count": 93,
   "metadata": {},
   "outputs": [
    {
     "name": "stdout",
     "output_type": "stream",
     "text": [
      "在 Xre 和 Yre 中的索引为：(0, 1)\n"
     ]
    }
   ],
   "source": [
    "X = np.array([4.8, 8.8, 12.8, 16.8, 4.8, 8.8, 12.8, 16.8, 4.8, 8.8, 12.8, 16.8])\n",
    "Xre = X.reshape(3, 4)\n",
    "Y = np.array([90.2, 90.2, 90.2, 90.2, 91.2, 91.2, 91.2, 91.2, 92.2, 92.2, 92.2, 92.2])\n",
    "Yre = Y.reshape(3, 4)\n",
    "\n",
    "target_value = [8.8, 90.2]\n",
    "\n",
    "# 寻找匹配的索引\n",
    "index = np.where((Xre == target_value[0]) & (Yre == target_value[1]))\n",
    "if len(index[0]) > 0:\n",
    "    row_index = index[0][0]\n",
    "    col_index = index[1][0]\n",
    "    print(f\"在 Xre 和 Yre 中的索引为：({row_index}, {col_index})\")\n",
    "else:\n",
    "    print(\"未找到匹配的索引\")"
   ]
  },
  {
   "cell_type": "code",
   "execution_count": 91,
   "metadata": {},
   "outputs": [
    {
     "data": {
      "text/plain": [
       "2"
      ]
     },
     "execution_count": 91,
     "metadata": {},
     "output_type": "execute_result"
    }
   ],
   "source": [
    "index[0][0]"
   ]
  },
  {
   "cell_type": "code",
   "execution_count": null,
   "metadata": {},
   "outputs": [],
   "source": [
    "type(rpy.plot.image(rmdata.band(965)))"
   ]
  },
  {
   "cell_type": "code",
   "execution_count": 94,
   "metadata": {},
   "outputs": [
    {
     "ename": "IndexError",
     "evalue": "index 1 is out of bounds for axis 0 with size 1",
     "output_type": "error",
     "traceback": [
      "\u001b[1;31m---------------------------------------------------------------------------\u001b[0m",
      "\u001b[1;31mIndexError\u001b[0m                                Traceback (most recent call last)",
      "\u001b[1;32me:\\WinLibrary\\Documents\\OneDrive\\学术研究\\2022.1_Durango标样退火实验_重离子辐照\\Raman\\Code\\RamanSoftware\\testcode.ipynb 单元格 14\u001b[0m line \u001b[0;36m1\n\u001b[1;32m----> <a href='vscode-notebook-cell:/e%3A/WinLibrary/Documents/OneDrive/%E5%AD%A6%E6%9C%AF%E7%A0%94%E7%A9%B6/2022.1_Durango%E6%A0%87%E6%A0%B7%E9%80%80%E7%81%AB%E5%AE%9E%E9%AA%8C_%E9%87%8D%E7%A6%BB%E5%AD%90%E8%BE%90%E7%85%A7/Raman/Code/RamanSoftware/testcode.ipynb#W5sZmlsZQ%3D%3D?line=0'>1</a>\u001b[0m testdata \u001b[39m=\u001b[39m rmdata[index[\u001b[39m0\u001b[39m][\u001b[39m0\u001b[39m],index[\u001b[39m0\u001b[39m][\u001b[39m1\u001b[39m]]\u001b[39m.\u001b[39mspectral_data\n",
      "\u001b[1;31mIndexError\u001b[0m: index 1 is out of bounds for axis 0 with size 1"
     ]
    }
   ],
   "source": [
    "testdata = rmdata[index[0],index[1]].spectral_data"
   ]
  },
  {
   "cell_type": "code",
   "execution_count": 89,
   "metadata": {},
   "outputs": [
    {
     "data": {
      "image/png": "[encoded data removed]",
      "text/plain": [
       "<Figure size 640x480 with 1 Axes>"
      ]
     },
     "metadata": {},
     "output_type": "display_data"
    }
   ],
   "source": [
    "\n",
    "plot = plt.plot(rmdata.spectral_axis,testdata[0])"
   ]
  },
  {
   "cell_type": "code",
   "execution_count": null,
   "metadata": {},
   "outputs": [],
   "source": [
    "type(plot)"
   ]
  },
  {
   "cell_type": "markdown",
   "metadata": {},
   "source": []
  }
 ],
 "metadata": {
  "kernelspec": {
   "display_name": "py3115",
   "language": "python",
   "name": "python3"
  },
  "language_info": {
   "codemirror_mode": {
    "name": "ipython",
    "version": 3
   },
   "file_extension": ".py",
   "mimetype": "text/x-python",
   "name": "python",
   "nbconvert_exporter": "python",
   "pygments_lexer": "ipython3",
   "version": "3.11.5"
  }
 },
 "nbformat": 4,
 "nbformat_minor": 2
}
