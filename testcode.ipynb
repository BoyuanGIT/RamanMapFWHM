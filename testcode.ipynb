{
 "cells": [
  {
   "cell_type": "code",
   "execution_count": 1,
   "metadata": {},
   "outputs": [],
   "source": [
    "import pandas as pd\n",
    "import numpy as np\n",
    "import ramanspy as rpy\n",
    "from lmfit.models import VoigtModel\n",
    "import matplotlib.pyplot as plt"
   ]
  },
  {
   "cell_type": "code",
   "execution_count": 14,
   "metadata": {},
   "outputs": [],
   "source": [
    "# put your csv files in the same folder as this script!\n",
    "\n",
    "import numpy as np\n",
    "file= 'test.csv' # modify the filename\n",
    "\n",
    "# Process each file in the file list\n",
    "\n",
    "# Read the CSV file and convert it to a NumPy array\n",
    "raw_data = pd.read_csv(file, header=None).to_numpy()\n",
    "\n",
    "# Perform Raman data processing\n",
    "# processed_raman_data = load_raman_data(raw_data)\n",
    "# # rpy.plot.spectra(processed_raman_data[0,1])\n",
    "\n",
    "x = raw_data[1,1:].astype(float)\n",
    "y = raw_data[2,1:].astype(float)\n",
    "axis = raw_data[3:,0].astype(float)\n",
    "data = raw_data[3:,1:].astype(float)\n",
    "data = data.T\n",
    "uniquex = np.unique(x)\n",
    "uniquey = np.unique(y)\n",
    "datare = data.reshape(len(uniquey), len(uniquex), len(axis))\n",
    "\n",
    "newx = x.reshape(len(uniquey), len(uniquex))\n",
    "newY = y.reshape(len(uniquey), len(uniquex))\n",
    "\n",
    "# # Analyze the Raman data and calculate FWHM values\n",
    "# fwhm_array, fwhm_std_array = analyze_raman_data(processed_raman_data)\n",
    "\n",
    "# # Save the processed data to an Excel file\n",
    "# save_to_excel(file, fwhm_array, fwhm_std_array)\n",
    "# print(\"complete. The first column is the relative x coordinate, the second column is the relative y coordinate, and the third column is the data value.\")\n",
    "\n",
    "\n",
    "\n",
    "\n",
    "# model = VoigtModel()\n",
    "# params = model.make_params(amplitude=1, center=965, sigma=1, gamma=1)\n",
    "\n",
    "\n",
    "# result = model.fit(y, params, x=x)\n",
    "return result\n"
   ]
  },
  {
   "cell_type": "markdown",
   "metadata": {},
   "source": [
    "just for test"
   ]
  },
  {
   "cell_type": "code",
   "execution_count": 17,
   "metadata": {},
   "outputs": [
    {
     "ename": "NameError",
     "evalue": "name 'm' is not defined",
     "output_type": "error",
     "traceback": [
      "\u001b[1;31m---------------------------------------------------------------------------\u001b[0m",
      "\u001b[1;31mNameError\u001b[0m                                 Traceback (most recent call last)",
      "\u001b[1;32me:\\WinLibrary\\Documents\\OneDrive\\学术研究\\2022.1_Durango标样退火实验_重离子辐照\\Raman\\Code\\RamanSoftware\\testcode.ipynb 单元格 4\u001b[0m line \u001b[0;36m2\n\u001b[0;32m      <a href='vscode-notebook-cell:/e%3A/WinLibrary/Documents/OneDrive/%E5%AD%A6%E6%9C%AF%E7%A0%94%E7%A9%B6/2022.1_Durango%E6%A0%87%E6%A0%B7%E9%80%80%E7%81%AB%E5%AE%9E%E9%AA%8C_%E9%87%8D%E7%A6%BB%E5%AD%90%E8%BE%90%E7%85%A7/Raman/Code/RamanSoftware/testcode.ipynb#W3sZmlsZQ%3D%3D?line=0'>1</a>\u001b[0m rmdata \u001b[39m=\u001b[39m rpy\u001b[39m.\u001b[39mSpectralImage(datare,axis)\n\u001b[1;32m----> <a href='vscode-notebook-cell:/e%3A/WinLibrary/Documents/OneDrive/%E5%AD%A6%E6%9C%AF%E7%A0%94%E7%A9%B6/2022.1_Durango%E6%A0%87%E6%A0%B7%E9%80%80%E7%81%AB%E5%AE%9E%E9%AA%8C_%E9%87%8D%E7%A6%BB%E5%AD%90%E8%BE%90%E7%85%A7/Raman/Code/RamanSoftware/testcode.ipynb#W3sZmlsZQ%3D%3D?line=1'>2</a>\u001b[0m tobefitdata \u001b[39m=\u001b[39m np\u001b[39m.\u001b[39mempty((m, n), dtype\u001b[39m=\u001b[39m\u001b[39mobject\u001b[39m)\n\u001b[0;32m      <a href='vscode-notebook-cell:/e%3A/WinLibrary/Documents/OneDrive/%E5%AD%A6%E6%9C%AF%E7%A0%94%E7%A9%B6/2022.1_Durango%E6%A0%87%E6%A0%B7%E9%80%80%E7%81%AB%E5%AE%9E%E9%AA%8C_%E9%87%8D%E7%A6%BB%E5%AD%90%E8%BE%90%E7%85%A7/Raman/Code/RamanSoftware/testcode.ipynb#W3sZmlsZQ%3D%3D?line=2'>3</a>\u001b[0m \u001b[39mfor\u001b[39;00m i \u001b[39min\u001b[39;00m \u001b[39mrange\u001b[39m(\u001b[39mlen\u001b[39m(uniquey)):\n\u001b[0;32m      <a href='vscode-notebook-cell:/e%3A/WinLibrary/Documents/OneDrive/%E5%AD%A6%E6%9C%AF%E7%A0%94%E7%A9%B6/2022.1_Durango%E6%A0%87%E6%A0%B7%E9%80%80%E7%81%AB%E5%AE%9E%E9%AA%8C_%E9%87%8D%E7%A6%BB%E5%AD%90%E8%BE%90%E7%85%A7/Raman/Code/RamanSoftware/testcode.ipynb#W3sZmlsZQ%3D%3D?line=3'>4</a>\u001b[0m     \u001b[39mfor\u001b[39;00m j \u001b[39min\u001b[39;00m \u001b[39mrange\u001b[39m(\u001b[39mlen\u001b[39m(uniquex)):\n",
      "\u001b[1;31mNameError\u001b[0m: name 'm' is not defined"
     ]
    }
   ],
   "source": [
    "rmdata = rpy.SpectralImage(datare,axis)\n",
    "tobefitdata = np.zeros((len(uniquey),len(uniquex)), dtype= object)\n",
    "for i in range(len(uniquey)):\n",
    "    for j in range(len(uniquex)):\n",
    "        tobefitdata[i,j] = rmdata.spectral_data[i,j,:]\n"
   ]
  },
  {
   "cell_type": "code",
   "execution_count": 12,
   "metadata": {},
   "outputs": [],
   "source": [
    "d2rd = raman_data.reshape(len(uniquey)*len(uniquex),len(axis))"
   ]
  },
  {
   "cell_type": "code",
   "execution_count": 13,
   "metadata": {},
   "outputs": [
    {
     "ename": "ValueError",
     "evalue": "all the input arrays must have same number of dimensions, but the array at index 0 has 2 dimension(s) and the array at index 1 has 3 dimension(s)",
     "output_type": "error",
     "traceback": [
      "\u001b[1;31m---------------------------------------------------------------------------\u001b[0m",
      "\u001b[1;31mValueError\u001b[0m                                Traceback (most recent call last)",
      "\u001b[1;32me:\\WinLibrary\\Documents\\OneDrive\\学术研究\\2022.1_Durango标样退火实验_重离子辐照\\Raman\\Code\\RamanSoftware\\testcode.ipynb 单元格 6\u001b[0m line \u001b[0;36m1\n\u001b[1;32m----> <a href='vscode-notebook-cell:/e%3A/WinLibrary/Documents/OneDrive/%E5%AD%A6%E6%9C%AF%E7%A0%94%E7%A9%B6/2022.1_Durango%E6%A0%87%E6%A0%B7%E9%80%80%E7%81%AB%E5%AE%9E%E9%AA%8C_%E9%87%8D%E7%A6%BB%E5%AD%90%E8%BE%90%E7%85%A7/Raman/Code/RamanSoftware/testcode.ipynb#X24sZmlsZQ%3D%3D?line=0'>1</a>\u001b[0m fitresult \u001b[39m=\u001b[39m vogitfit(rmdata)\n",
      "\u001b[1;32me:\\WinLibrary\\Documents\\OneDrive\\学术研究\\2022.1_Durango标样退火实验_重离子辐照\\Raman\\Code\\RamanSoftware\\testcode.ipynb 单元格 6\u001b[0m line \u001b[0;36m3\n\u001b[0;32m     <a href='vscode-notebook-cell:/e%3A/WinLibrary/Documents/OneDrive/%E5%AD%A6%E6%9C%AF%E7%A0%94%E7%A9%B6/2022.1_Durango%E6%A0%87%E6%A0%B7%E9%80%80%E7%81%AB%E5%AE%9E%E9%AA%8C_%E9%87%8D%E7%A6%BB%E5%AD%90%E8%BE%90%E7%85%A7/Raman/Code/RamanSoftware/testcode.ipynb#X24sZmlsZQ%3D%3D?line=37'>38</a>\u001b[0m \u001b[39mdef\u001b[39;00m \u001b[39mvogitfit\u001b[39m(preprocessed_data):\n\u001b[1;32m---> <a href='vscode-notebook-cell:/e%3A/WinLibrary/Documents/OneDrive/%E5%AD%A6%E6%9C%AF%E7%A0%94%E7%A9%B6/2022.1_Durango%E6%A0%87%E6%A0%B7%E9%80%80%E7%81%AB%E5%AE%9E%E9%AA%8C_%E9%87%8D%E7%A6%BB%E5%AD%90%E8%BE%90%E7%85%A7/Raman/Code/RamanSoftware/testcode.ipynb#X24sZmlsZQ%3D%3D?line=38'>39</a>\u001b[0m     data \u001b[39m=\u001b[39m np\u001b[39m.\u001b[39mcolumn_stack((preprocessed_data\u001b[39m.\u001b[39mspectral_axis, preprocessed_data\u001b[39m.\u001b[39mspectral_data))\n\u001b[0;32m     <a href='vscode-notebook-cell:/e%3A/WinLibrary/Documents/OneDrive/%E5%AD%A6%E6%9C%AF%E7%A0%94%E7%A9%B6/2022.1_Durango%E6%A0%87%E6%A0%B7%E9%80%80%E7%81%AB%E5%AE%9E%E9%AA%8C_%E9%87%8D%E7%A6%BB%E5%AD%90%E8%BE%90%E7%85%A7/Raman/Code/RamanSoftware/testcode.ipynb#X24sZmlsZQ%3D%3D?line=39'>40</a>\u001b[0m     x \u001b[39m=\u001b[39m data[:, \u001b[39m0\u001b[39m]\n\u001b[0;32m     <a href='vscode-notebook-cell:/e%3A/WinLibrary/Documents/OneDrive/%E5%AD%A6%E6%9C%AF%E7%A0%94%E7%A9%B6/2022.1_Durango%E6%A0%87%E6%A0%B7%E9%80%80%E7%81%AB%E5%AE%9E%E9%AA%8C_%E9%87%8D%E7%A6%BB%E5%AD%90%E8%BE%90%E7%85%A7/Raman/Code/RamanSoftware/testcode.ipynb#X24sZmlsZQ%3D%3D?line=40'>41</a>\u001b[0m     y \u001b[39m=\u001b[39m data[:, \u001b[39m1\u001b[39m]\n",
      "File \u001b[1;32md:\\ProgramFiles\\Anaconda\\envs_pkgs\\envs\\py3115\\Lib\\site-packages\\numpy\\lib\\shape_base.py:652\u001b[0m, in \u001b[0;36mcolumn_stack\u001b[1;34m(tup)\u001b[0m\n\u001b[0;32m    650\u001b[0m         arr \u001b[39m=\u001b[39m array(arr, copy\u001b[39m=\u001b[39m\u001b[39mFalse\u001b[39;00m, subok\u001b[39m=\u001b[39m\u001b[39mTrue\u001b[39;00m, ndmin\u001b[39m=\u001b[39m\u001b[39m2\u001b[39m)\u001b[39m.\u001b[39mT\n\u001b[0;32m    651\u001b[0m     arrays\u001b[39m.\u001b[39mappend(arr)\n\u001b[1;32m--> 652\u001b[0m \u001b[39mreturn\u001b[39;00m _nx\u001b[39m.\u001b[39mconcatenate(arrays, \u001b[39m1\u001b[39m)\n",
      "\u001b[1;31mValueError\u001b[0m: all the input arrays must have same number of dimensions, but the array at index 0 has 2 dimension(s) and the array at index 1 has 3 dimension(s)"
     ]
    }
   ],
   "source": [
    "fitresult = vogitfit(rmdata.spectral_axis,d2rd, )"
   ]
  },
  {
   "cell_type": "markdown",
   "metadata": {},
   "source": []
  }
 ],
 "metadata": {
  "kernelspec": {
   "display_name": "py3115",
   "language": "python",
   "name": "python3"
  },
  "language_info": {
   "codemirror_mode": {
    "name": "ipython",
    "version": 3
   },
   "file_extension": ".py",
   "mimetype": "text/x-python",
   "name": "python",
   "nbconvert_exporter": "python",
   "pygments_lexer": "ipython3",
   "version": "3.11.5"
  }
 },
 "nbformat": 4,
 "nbformat_minor": 2
}
